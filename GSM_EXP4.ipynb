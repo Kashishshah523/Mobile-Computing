{
  "nbformat": 4,
  "nbformat_minor": 0,
  "metadata": {
    "colab": {
      "provenance": [],
      "authorship_tag": "ABX9TyMp1nFvgmPncIosX4iLv1or",
      "include_colab_link": true
    },
    "kernelspec": {
      "name": "python3",
      "display_name": "Python 3"
    },
    "language_info": {
      "name": "python"
    }
  },
  "cells": [
    {
      "cell_type": "markdown",
      "metadata": {
        "id": "view-in-github",
        "colab_type": "text"
      },
      "source": [
        "<a href=\"https://colab.research.google.com/github/Kashishshah523/Mobile-Computing/blob/main/GSM_EXP4.ipynb\" target=\"_parent\"><img src=\"https://colab.research.google.com/assets/colab-badge.svg\" alt=\"Open In Colab\"/></a>"
      ]
    },
    {
      "cell_type": "code",
      "execution_count": 1,
      "metadata": {
        "colab": {
          "base_uri": "https://localhost:8080/"
        },
        "id": "_gtvDdJ_pBkd",
        "outputId": "f449af14-6c2c-4a10-95bf-31884331a433"
      },
      "outputs": [
        {
          "output_type": "stream",
          "name": "stdout",
          "text": [
            "128 Bit Key =  10011110001101101010101001011110010101011011010111111001000111011100110110010101011100001000011010001011001100100010111010111001\n",
            "128 Random Bits Generated =  1001000101011101100100110101110101101000100111101011000001001001111001001001000011100010111111001011001101101100110000010100000\n",
            "RES/SRES =  01011111000110010011111110110110\n"
          ]
        }
      ],
      "source": [
        "import random\n",
        "\n",
        "k=random.getrandbits(128)\n",
        "m=random.getrandbits(128)\n",
        "kb=bin(k)[2:]\n",
        "mb=bin(m)[2:]\n",
        "kbl=kb[0:64]\n",
        "kbr=kb[64:]\n",
        "mbl=mb[0:64]\n",
        "mbr=mb[64:]\n",
        "a1=int(kbl,2)^int(mbr,2)\n",
        "a2=int(kbr,2)^int(mbl,2)\n",
        "a3=a1^a2\n",
        "a4=bin(a3)[2:].zfill(64)\n",
        "a5=a4[0:32]\n",
        "a6=a4[32:]\n",
        "a7=int(a5,2)^int(a6,2)\n",
        "print(\"128 Bit Key = \",kb)\n",
        "print(\"128 Random Bits Generated = \",mb)\n",
        "print(\"RES/SRES = \",bin(a7)[2:].zfill(len(a5)))"
      ]
    }
  ]
}